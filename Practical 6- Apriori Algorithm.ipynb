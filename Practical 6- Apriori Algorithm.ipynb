{
 "cells": [
  {
   "cell_type": "markdown",
   "id": "94bbd71c-87e0-4b69-8f4b-d075faa0a297",
   "metadata": {},
   "source": [
    "# Apriori Algorithm in Python- Market Basket Analysis"
   ]
  },
  {
   "cell_type": "markdown",
   "id": "86aaf142-b73c-47ad-a481-98694e35903c",
   "metadata": {},
   "source": [
    "## Problem Statement: \n",
    "#####                 The manager of a retail store is trying to find out an association rule between six items, to figure out which items are more often bought together so that he can keep the items together in order to increase the sales."
   ]
  },
  {
   "cell_type": "markdown",
   "id": "febb626a-62c5-475a-8390-a1c1477f7683",
   "metadata": {},
   "source": [
    "#### Name: Alakshendra Pratap Singh\n",
    "#### Prn: 22070521068\n",
    "#### Sec: A\n",
    "#### Sem: 6"
   ]
  },
  {
   "cell_type": "code",
   "execution_count": 6,
   "id": "a64b80f5-1621-47e6-90bb-64e5270e505c",
   "metadata": {},
   "outputs": [
    {
     "name": "stdout",
     "output_type": "stream",
     "text": [
      "Collecting apyori\n",
      "  Downloading apyori-1.1.2.tar.gz (8.6 kB)\n",
      "  Preparing metadata (setup.py): started\n",
      "  Preparing metadata (setup.py): finished with status 'done'\n",
      "Building wheels for collected packages: apyori\n",
      "  Building wheel for apyori (setup.py): started\n",
      "  Building wheel for apyori (setup.py): finished with status 'done'\n",
      "  Created wheel for apyori: filename=apyori-1.1.2-py3-none-any.whl size=5976 sha256=c80b7806879168156156dc7b3a913784e06958a39cc688d7ce160ca113c0fb8d\n",
      "  Stored in directory: c:\\users\\acer\\appdata\\local\\pip\\cache\\wheels\\7f\\49\\e3\\42c73b19a264de37129fadaa0c52f26cf50e87de08fb9804af\n",
      "Successfully built apyori\n",
      "Installing collected packages: apyori\n",
      "Successfully installed apyori-1.1.2\n"
     ]
    }
   ],
   "source": [
    "!pip install apyori"
   ]
  },
  {
   "cell_type": "code",
   "execution_count": 8,
   "id": "3361db74-16dc-411d-b1b1-c071175a8fc6",
   "metadata": {},
   "outputs": [],
   "source": [
    "# import required libraries\n",
    "import numpy as np\n",
    "import pandas as pd\n",
    "from apyori import apriori"
   ]
  },
  {
   "cell_type": "code",
   "execution_count": 16,
   "id": "8c7b2082-c539-4772-9d87-8c537f96a53a",
   "metadata": {},
   "outputs": [
    {
     "data": {
      "text/html": [
       "<div>\n",
       "<style scoped>\n",
       "    .dataframe tbody tr th:only-of-type {\n",
       "        vertical-align: middle;\n",
       "    }\n",
       "\n",
       "    .dataframe tbody tr th {\n",
       "        vertical-align: top;\n",
       "    }\n",
       "\n",
       "    .dataframe thead th {\n",
       "        text-align: right;\n",
       "    }\n",
       "</style>\n",
       "<table border=\"1\" class=\"dataframe\">\n",
       "  <thead>\n",
       "    <tr style=\"text-align: right;\">\n",
       "      <th></th>\n",
       "      <th>0</th>\n",
       "      <th>1</th>\n",
       "      <th>2</th>\n",
       "      <th>3</th>\n",
       "      <th>4</th>\n",
       "      <th>5</th>\n",
       "    </tr>\n",
       "  </thead>\n",
       "  <tbody>\n",
       "    <tr>\n",
       "      <th>0</th>\n",
       "      <td>Wine</td>\n",
       "      <td>Chips</td>\n",
       "      <td>Bread</td>\n",
       "      <td>Butter</td>\n",
       "      <td>Milk</td>\n",
       "      <td>Apple</td>\n",
       "    </tr>\n",
       "    <tr>\n",
       "      <th>1</th>\n",
       "      <td>Wine</td>\n",
       "      <td>NaN</td>\n",
       "      <td>Bread</td>\n",
       "      <td>Butter</td>\n",
       "      <td>Milk</td>\n",
       "      <td>NaN</td>\n",
       "    </tr>\n",
       "    <tr>\n",
       "      <th>2</th>\n",
       "      <td>NaN</td>\n",
       "      <td>NaN</td>\n",
       "      <td>Bread</td>\n",
       "      <td>Butter</td>\n",
       "      <td>Milk</td>\n",
       "      <td>NaN</td>\n",
       "    </tr>\n",
       "    <tr>\n",
       "      <th>3</th>\n",
       "      <td>NaN</td>\n",
       "      <td>Chips</td>\n",
       "      <td>NaN</td>\n",
       "      <td>NaN</td>\n",
       "      <td>NaN</td>\n",
       "      <td>Apple</td>\n",
       "    </tr>\n",
       "    <tr>\n",
       "      <th>4</th>\n",
       "      <td>Wine</td>\n",
       "      <td>Chips</td>\n",
       "      <td>Bread</td>\n",
       "      <td>Butter</td>\n",
       "      <td>Milk</td>\n",
       "      <td>Apple</td>\n",
       "    </tr>\n",
       "    <tr>\n",
       "      <th>5</th>\n",
       "      <td>Wine</td>\n",
       "      <td>Chips</td>\n",
       "      <td>NaN</td>\n",
       "      <td>NaN</td>\n",
       "      <td>Milk</td>\n",
       "      <td>NaN</td>\n",
       "    </tr>\n",
       "    <tr>\n",
       "      <th>6</th>\n",
       "      <td>Wine</td>\n",
       "      <td>Chips</td>\n",
       "      <td>Bread</td>\n",
       "      <td>Butter</td>\n",
       "      <td>NaN</td>\n",
       "      <td>Apple</td>\n",
       "    </tr>\n",
       "    <tr>\n",
       "      <th>7</th>\n",
       "      <td>Wine</td>\n",
       "      <td>Chips</td>\n",
       "      <td>NaN</td>\n",
       "      <td>NaN</td>\n",
       "      <td>Milk</td>\n",
       "      <td>NaN</td>\n",
       "    </tr>\n",
       "    <tr>\n",
       "      <th>8</th>\n",
       "      <td>Wine</td>\n",
       "      <td>NaN</td>\n",
       "      <td>Bread</td>\n",
       "      <td>NaN</td>\n",
       "      <td>NaN</td>\n",
       "      <td>Apple</td>\n",
       "    </tr>\n",
       "    <tr>\n",
       "      <th>9</th>\n",
       "      <td>Wine</td>\n",
       "      <td>NaN</td>\n",
       "      <td>Bread</td>\n",
       "      <td>Butter</td>\n",
       "      <td>Milk</td>\n",
       "      <td>NaN</td>\n",
       "    </tr>\n",
       "    <tr>\n",
       "      <th>10</th>\n",
       "      <td>NaN</td>\n",
       "      <td>Chips</td>\n",
       "      <td>Bread</td>\n",
       "      <td>Butter</td>\n",
       "      <td>NaN</td>\n",
       "      <td>Apple</td>\n",
       "    </tr>\n",
       "    <tr>\n",
       "      <th>11</th>\n",
       "      <td>Wine</td>\n",
       "      <td>NaN</td>\n",
       "      <td>NaN</td>\n",
       "      <td>Butter</td>\n",
       "      <td>Milk</td>\n",
       "      <td>Apple</td>\n",
       "    </tr>\n",
       "    <tr>\n",
       "      <th>12</th>\n",
       "      <td>Wine</td>\n",
       "      <td>Chips</td>\n",
       "      <td>Bread</td>\n",
       "      <td>Butter</td>\n",
       "      <td>Milk</td>\n",
       "      <td>NaN</td>\n",
       "    </tr>\n",
       "    <tr>\n",
       "      <th>13</th>\n",
       "      <td>Wine</td>\n",
       "      <td>NaN</td>\n",
       "      <td>Bread</td>\n",
       "      <td>NaN</td>\n",
       "      <td>Milk</td>\n",
       "      <td>Apple</td>\n",
       "    </tr>\n",
       "    <tr>\n",
       "      <th>14</th>\n",
       "      <td>Wine</td>\n",
       "      <td>NaN</td>\n",
       "      <td>Bread</td>\n",
       "      <td>Butter</td>\n",
       "      <td>Milk</td>\n",
       "      <td>Apple</td>\n",
       "    </tr>\n",
       "    <tr>\n",
       "      <th>15</th>\n",
       "      <td>Wine</td>\n",
       "      <td>Chips</td>\n",
       "      <td>Bread</td>\n",
       "      <td>Butter</td>\n",
       "      <td>Milk</td>\n",
       "      <td>Apple</td>\n",
       "    </tr>\n",
       "    <tr>\n",
       "      <th>16</th>\n",
       "      <td>NaN</td>\n",
       "      <td>Chips</td>\n",
       "      <td>Bread</td>\n",
       "      <td>Butter</td>\n",
       "      <td>Milk</td>\n",
       "      <td>Apple</td>\n",
       "    </tr>\n",
       "    <tr>\n",
       "      <th>17</th>\n",
       "      <td>NaN</td>\n",
       "      <td>Chips</td>\n",
       "      <td>NaN</td>\n",
       "      <td>Butter</td>\n",
       "      <td>Milk</td>\n",
       "      <td>Apple</td>\n",
       "    </tr>\n",
       "    <tr>\n",
       "      <th>18</th>\n",
       "      <td>Wine</td>\n",
       "      <td>Chips</td>\n",
       "      <td>Bread</td>\n",
       "      <td>Butter</td>\n",
       "      <td>Milk</td>\n",
       "      <td>Apple</td>\n",
       "    </tr>\n",
       "    <tr>\n",
       "      <th>19</th>\n",
       "      <td>Wine</td>\n",
       "      <td>NaN</td>\n",
       "      <td>Bread</td>\n",
       "      <td>Butter</td>\n",
       "      <td>Milk</td>\n",
       "      <td>Apple</td>\n",
       "    </tr>\n",
       "    <tr>\n",
       "      <th>20</th>\n",
       "      <td>Wine</td>\n",
       "      <td>Chips</td>\n",
       "      <td>Bread</td>\n",
       "      <td>NaN</td>\n",
       "      <td>Milk</td>\n",
       "      <td>Apple</td>\n",
       "    </tr>\n",
       "    <tr>\n",
       "      <th>21</th>\n",
       "      <td>NaN</td>\n",
       "      <td>Chips</td>\n",
       "      <td>NaN</td>\n",
       "      <td>NaN</td>\n",
       "      <td>NaN</td>\n",
       "      <td>NaN</td>\n",
       "    </tr>\n",
       "  </tbody>\n",
       "</table>\n",
       "</div>"
      ],
      "text/plain": [
       "       0      1      2       3     4      5\n",
       "0   Wine  Chips  Bread  Butter  Milk  Apple\n",
       "1   Wine    NaN  Bread  Butter  Milk    NaN\n",
       "2    NaN    NaN  Bread  Butter  Milk    NaN\n",
       "3    NaN  Chips    NaN     NaN   NaN  Apple\n",
       "4   Wine  Chips  Bread  Butter  Milk  Apple\n",
       "5   Wine  Chips    NaN     NaN  Milk    NaN\n",
       "6   Wine  Chips  Bread  Butter   NaN  Apple\n",
       "7   Wine  Chips    NaN     NaN  Milk    NaN\n",
       "8   Wine    NaN  Bread     NaN   NaN  Apple\n",
       "9   Wine    NaN  Bread  Butter  Milk    NaN\n",
       "10   NaN  Chips  Bread  Butter   NaN  Apple\n",
       "11  Wine    NaN    NaN  Butter  Milk  Apple\n",
       "12  Wine  Chips  Bread  Butter  Milk    NaN\n",
       "13  Wine    NaN  Bread     NaN  Milk  Apple\n",
       "14  Wine    NaN  Bread  Butter  Milk  Apple\n",
       "15  Wine  Chips  Bread  Butter  Milk  Apple\n",
       "16   NaN  Chips  Bread  Butter  Milk  Apple\n",
       "17   NaN  Chips    NaN  Butter  Milk  Apple\n",
       "18  Wine  Chips  Bread  Butter  Milk  Apple\n",
       "19  Wine    NaN  Bread  Butter  Milk  Apple\n",
       "20  Wine  Chips  Bread     NaN  Milk  Apple\n",
       "21   NaN  Chips    NaN     NaN   NaN    NaN"
      ]
     },
     "execution_count": 16,
     "metadata": {},
     "output_type": "execute_result"
    }
   ],
   "source": [
    "# Load the dataset\n",
    "store_data = pd.read_csv(\"Day1.csv\", header = None)\n",
    "store_data"
   ]
  },
  {
   "cell_type": "code",
   "execution_count": 18,
   "id": "27a974a8-dfc5-4156-b131-31eb636ccb6f",
   "metadata": {},
   "outputs": [
    {
     "data": {
      "text/plain": [
       "(22, 6)"
      ]
     },
     "execution_count": 18,
     "metadata": {},
     "output_type": "execute_result"
    }
   ],
   "source": [
    "store_data.shape"
   ]
  },
  {
   "cell_type": "markdown",
   "id": "4014dbee-8861-43af-a869-e99cd9f96d1a",
   "metadata": {},
   "source": [
    "#### Convert the pandas dataframe into a list of lists"
   ]
  },
  {
   "cell_type": "code",
   "execution_count": 28,
   "id": "4840b874-1396-4279-b476-f62ad964d100",
   "metadata": {},
   "outputs": [],
   "source": [
    "records = []\n",
    "for i in range(0, 22):\n",
    "    records.append([str(store_data.values[i,j]) for j in range(0, 6)])"
   ]
  },
  {
   "cell_type": "code",
   "execution_count": 36,
   "id": "28bd0307-3047-45f9-a9ad-03e486dff276",
   "metadata": {},
   "outputs": [
    {
     "data": {
      "text/plain": [
       "[['Wine', 'Chips', 'Bread', 'Butter', 'Milk', 'Apple'],\n",
       " ['Wine', 'nan', 'Bread', 'Butter', 'Milk', 'nan'],\n",
       " ['nan', 'nan', 'Bread', 'Butter', 'Milk', 'nan'],\n",
       " ['nan', 'Chips', 'nan', 'nan', 'nan', 'Apple'],\n",
       " ['Wine', 'Chips', 'Bread', 'Butter', 'Milk', 'Apple'],\n",
       " ['Wine', 'Chips', 'nan', 'nan', 'Milk', 'nan'],\n",
       " ['Wine', 'Chips', 'Bread', 'Butter', 'nan', 'Apple'],\n",
       " ['Wine', 'Chips', 'nan', 'nan', 'Milk', 'nan'],\n",
       " ['Wine', 'nan', 'Bread', 'nan', 'nan', 'Apple'],\n",
       " ['Wine', 'nan', 'Bread', 'Butter', 'Milk', 'nan'],\n",
       " ['nan', 'Chips', 'Bread', 'Butter', 'nan', 'Apple'],\n",
       " ['Wine', 'nan', 'nan', 'Butter', 'Milk', 'Apple'],\n",
       " ['Wine', 'Chips', 'Bread', 'Butter', 'Milk', 'nan'],\n",
       " ['Wine', 'nan', 'Bread', 'nan', 'Milk', 'Apple'],\n",
       " ['Wine', 'nan', 'Bread', 'Butter', 'Milk', 'Apple'],\n",
       " ['Wine', 'Chips', 'Bread', 'Butter', 'Milk', 'Apple'],\n",
       " ['nan', 'Chips', 'Bread', 'Butter', 'Milk', 'Apple'],\n",
       " ['nan', 'Chips', 'nan', 'Butter', 'Milk', 'Apple'],\n",
       " ['Wine', 'Chips', 'Bread', 'Butter', 'Milk', 'Apple'],\n",
       " ['Wine', 'nan', 'Bread', 'Butter', 'Milk', 'Apple'],\n",
       " ['Wine', 'Chips', 'Bread', 'nan', 'Milk', 'Apple'],\n",
       " ['nan', 'Chips', 'nan', 'nan', 'nan', 'nan']]"
      ]
     },
     "execution_count": 36,
     "metadata": {},
     "output_type": "execute_result"
    }
   ],
   "source": [
    "records"
   ]
  },
  {
   "cell_type": "markdown",
   "id": "95ab3598-36d2-4014-8b2a-82ec8f157f0a",
   "metadata": {},
   "source": [
    "#### Build the Apriori Model"
   ]
  },
  {
   "cell_type": "code",
   "execution_count": 39,
   "id": "61f17ff1-7848-475a-9f88-ca0abac27d75",
   "metadata": {},
   "outputs": [],
   "source": [
    "# Building the first apriori model\n",
    "association_rules = apriori(records, min_support = 0.50, min_confidence = 0.7, min_lift = 1.2, min_length = 2)\n",
    "association_results = list(association_rules)"
   ]
  },
  {
   "cell_type": "code",
   "execution_count": 41,
   "id": "6e7f658b-0561-48b6-96f8-98e4ae036c09",
   "metadata": {},
   "outputs": [
    {
     "name": "stdout",
     "output_type": "stream",
     "text": [
      "1\n"
     ]
    }
   ],
   "source": [
    "# print the no. of rules\n",
    "print(len(association_results))"
   ]
  },
  {
   "cell_type": "code",
   "execution_count": 43,
   "id": "baa100f2-0f46-4c06-a51d-a4ebe19344da",
   "metadata": {},
   "outputs": [
    {
     "data": {
      "text/plain": [
       "[RelationRecord(items=frozenset({'Butter', 'Bread', 'Milk'}), support=0.5, ordered_statistics=[OrderedStatistic(items_base=frozenset({'Butter'}), items_add=frozenset({'Bread', 'Milk'}), confidence=0.7333333333333334, lift=1.241025641025641), OrderedStatistic(items_base=frozenset({'Bread', 'Milk'}), items_add=frozenset({'Butter'}), confidence=0.8461538461538461, lift=1.241025641025641)])]"
      ]
     },
     "execution_count": 43,
     "metadata": {},
     "output_type": "execute_result"
    }
   ],
   "source": [
    "# have a glance at the rule\n",
    "association_results"
   ]
  },
  {
   "cell_type": "markdown",
   "id": "e1b71d3a-3864-414d-af2d-5e86dfad3ba4",
   "metadata": {},
   "source": [
    "##### The support value for the first rule is 0.5. This number is calculated by dividing the number of transactions containing 'Milk', 'Bread' and 'Butter' by the total number of transactions"
   ]
  },
  {
   "cell_type": "code",
   "execution_count": null,
   "id": "3880c5c3-cfb7-4035-8d18-db50fc9355ff",
   "metadata": {},
   "outputs": [],
   "source": []
  }
 ],
 "metadata": {
  "kernelspec": {
   "display_name": "Python 3 (ipykernel)",
   "language": "python",
   "name": "python3"
  },
  "language_info": {
   "codemirror_mode": {
    "name": "ipython",
    "version": 3
   },
   "file_extension": ".py",
   "mimetype": "text/x-python",
   "name": "python",
   "nbconvert_exporter": "python",
   "pygments_lexer": "ipython3",
   "version": "3.12.4"
  }
 },
 "nbformat": 4,
 "nbformat_minor": 5
}
