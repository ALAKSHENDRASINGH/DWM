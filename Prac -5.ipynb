{
 "cells": [
  {
   "cell_type": "markdown",
   "id": "5aa26fec-33d5-41a1-b847-3b5031657e51",
   "metadata": {},
   "source": [
    "# Objective: To implement various data flow transformations that are commonly used in ETL(Extract, Load, Transform) process "
   ]
  },
  {
   "cell_type": "markdown",
   "id": "3fb453f9-ea4e-4dc0-b083-2988b0592091",
   "metadata": {},
   "source": [
    "#### Name: Alakshendra Pratap Singh\n",
    "#### Prn: 22070521068\n",
    "#### Sec: A\n",
    "#### Sem: 6"
   ]
  },
  {
   "cell_type": "code",
   "execution_count": 7,
   "id": "fee13969-fbbd-4684-854a-80bf5a0d23b4",
   "metadata": {},
   "outputs": [],
   "source": [
    "import pandas as pd"
   ]
  },
  {
   "cell_type": "markdown",
   "id": "ec512363-7f1b-461b-9ad8-e3bdb5b4476e",
   "metadata": {},
   "source": [
    "#### Input Data"
   ]
  },
  {
   "cell_type": "code",
   "execution_count": 10,
   "id": "f9a07245-d0d0-4e39-9706-58e7f5ff8568",
   "metadata": {},
   "outputs": [],
   "source": [
    "data = {\n",
    "    'ID' : [1, 2, 3, 4, 5, 6],\n",
    "    'Name' : ['Ambar', 'Ankush', 'Tirthak', 'Deepak', 'Aditya', 'Nishant'],\n",
    "    'Age' : [19, 21, 20, 22, 18, 24],\n",
    "    'Country' : ['Maharashtra', 'Karnatka', 'Gujrat', 'Uttar Pradesh', 'Goa', 'Chandigarh'],\n",
    "    'Sales' : [300, 400, 200, 250, 500, 850]\n",
    "}"
   ]
  },
  {
   "cell_type": "code",
   "execution_count": 65,
   "id": "dee1797c-dac7-4409-bc22-527ddddbca37",
   "metadata": {},
   "outputs": [
    {
     "name": "stdout",
     "output_type": "stream",
     "text": [
      "Original Dataset:\n"
     ]
    },
    {
     "data": {
      "text/html": [
       "<div>\n",
       "<style scoped>\n",
       "    .dataframe tbody tr th:only-of-type {\n",
       "        vertical-align: middle;\n",
       "    }\n",
       "\n",
       "    .dataframe tbody tr th {\n",
       "        vertical-align: top;\n",
       "    }\n",
       "\n",
       "    .dataframe thead th {\n",
       "        text-align: right;\n",
       "    }\n",
       "</style>\n",
       "<table border=\"1\" class=\"dataframe\">\n",
       "  <thead>\n",
       "    <tr style=\"text-align: right;\">\n",
       "      <th></th>\n",
       "      <th>ID</th>\n",
       "      <th>Name</th>\n",
       "      <th>Age</th>\n",
       "      <th>Country</th>\n",
       "      <th>Sales</th>\n",
       "    </tr>\n",
       "  </thead>\n",
       "  <tbody>\n",
       "    <tr>\n",
       "      <th>0</th>\n",
       "      <td>1</td>\n",
       "      <td>Ambar</td>\n",
       "      <td>19</td>\n",
       "      <td>Maharashtra</td>\n",
       "      <td>300</td>\n",
       "    </tr>\n",
       "    <tr>\n",
       "      <th>1</th>\n",
       "      <td>2</td>\n",
       "      <td>Ankush</td>\n",
       "      <td>21</td>\n",
       "      <td>Karnatka</td>\n",
       "      <td>400</td>\n",
       "    </tr>\n",
       "    <tr>\n",
       "      <th>2</th>\n",
       "      <td>3</td>\n",
       "      <td>Tirthak</td>\n",
       "      <td>20</td>\n",
       "      <td>Gujrat</td>\n",
       "      <td>200</td>\n",
       "    </tr>\n",
       "    <tr>\n",
       "      <th>3</th>\n",
       "      <td>4</td>\n",
       "      <td>Deepak</td>\n",
       "      <td>22</td>\n",
       "      <td>Uttar Pradesh</td>\n",
       "      <td>250</td>\n",
       "    </tr>\n",
       "    <tr>\n",
       "      <th>4</th>\n",
       "      <td>5</td>\n",
       "      <td>Aditya</td>\n",
       "      <td>18</td>\n",
       "      <td>Goa</td>\n",
       "      <td>500</td>\n",
       "    </tr>\n",
       "    <tr>\n",
       "      <th>5</th>\n",
       "      <td>6</td>\n",
       "      <td>Nishant</td>\n",
       "      <td>24</td>\n",
       "      <td>Chandigarh</td>\n",
       "      <td>850</td>\n",
       "    </tr>\n",
       "  </tbody>\n",
       "</table>\n",
       "</div>"
      ],
      "text/plain": [
       "   ID     Name  Age        Country  Sales\n",
       "0   1    Ambar   19    Maharashtra    300\n",
       "1   2   Ankush   21       Karnatka    400\n",
       "2   3  Tirthak   20         Gujrat    200\n",
       "3   4   Deepak   22  Uttar Pradesh    250\n",
       "4   5   Aditya   18            Goa    500\n",
       "5   6  Nishant   24     Chandigarh    850"
      ]
     },
     "execution_count": 65,
     "metadata": {},
     "output_type": "execute_result"
    }
   ],
   "source": [
    "# Create DataFrame\n",
    "df = pd.DataFrame(data)\n",
    "print('Original Dataset:')\n",
    "df"
   ]
  },
  {
   "cell_type": "markdown",
   "id": "3e094036-57dd-48c0-ba39-e5732f8817f0",
   "metadata": {},
   "source": [
    "## Data Flow Transformations"
   ]
  },
  {
   "cell_type": "code",
   "execution_count": 68,
   "id": "74d5cb7e-e073-48ff-aa2a-2defd0af7395",
   "metadata": {},
   "outputs": [],
   "source": [
    "# Character Map\n",
    "# Description: Transform text data by changing the case of characters. Here, we will convert the Name column to uppercase"
   ]
  },
  {
   "cell_type": "code",
   "execution_count": 70,
   "id": "fece1793-37e9-4751-a2ae-e8b1a15d362b",
   "metadata": {},
   "outputs": [
    {
     "name": "stdout",
     "output_type": "stream",
     "text": [
      "\n",
      "Character Map (Uppercase Names):\n"
     ]
    },
    {
     "data": {
      "text/html": [
       "<div>\n",
       "<style scoped>\n",
       "    .dataframe tbody tr th:only-of-type {\n",
       "        vertical-align: middle;\n",
       "    }\n",
       "\n",
       "    .dataframe tbody tr th {\n",
       "        vertical-align: top;\n",
       "    }\n",
       "\n",
       "    .dataframe thead th {\n",
       "        text-align: right;\n",
       "    }\n",
       "</style>\n",
       "<table border=\"1\" class=\"dataframe\">\n",
       "  <thead>\n",
       "    <tr style=\"text-align: right;\">\n",
       "      <th></th>\n",
       "      <th>ID</th>\n",
       "      <th>Name</th>\n",
       "      <th>Name_Upper</th>\n",
       "    </tr>\n",
       "  </thead>\n",
       "  <tbody>\n",
       "    <tr>\n",
       "      <th>0</th>\n",
       "      <td>1</td>\n",
       "      <td>Ambar</td>\n",
       "      <td>AMBAR</td>\n",
       "    </tr>\n",
       "    <tr>\n",
       "      <th>1</th>\n",
       "      <td>2</td>\n",
       "      <td>Ankush</td>\n",
       "      <td>ANKUSH</td>\n",
       "    </tr>\n",
       "    <tr>\n",
       "      <th>2</th>\n",
       "      <td>3</td>\n",
       "      <td>Tirthak</td>\n",
       "      <td>TIRTHAK</td>\n",
       "    </tr>\n",
       "    <tr>\n",
       "      <th>3</th>\n",
       "      <td>4</td>\n",
       "      <td>Deepak</td>\n",
       "      <td>DEEPAK</td>\n",
       "    </tr>\n",
       "    <tr>\n",
       "      <th>4</th>\n",
       "      <td>5</td>\n",
       "      <td>Aditya</td>\n",
       "      <td>ADITYA</td>\n",
       "    </tr>\n",
       "    <tr>\n",
       "      <th>5</th>\n",
       "      <td>6</td>\n",
       "      <td>Nishant</td>\n",
       "      <td>NISHANT</td>\n",
       "    </tr>\n",
       "  </tbody>\n",
       "</table>\n",
       "</div>"
      ],
      "text/plain": [
       "   ID     Name Name_Upper\n",
       "0   1    Ambar      AMBAR\n",
       "1   2   Ankush     ANKUSH\n",
       "2   3  Tirthak    TIRTHAK\n",
       "3   4   Deepak     DEEPAK\n",
       "4   5   Aditya     ADITYA\n",
       "5   6  Nishant    NISHANT"
      ]
     },
     "execution_count": 70,
     "metadata": {},
     "output_type": "execute_result"
    }
   ],
   "source": [
    "# Character Map: COnvert 'Name' to uppercase\n",
    "df['Name_Upper'] = df['Name'].str.upper()\n",
    "print('\\nCharacter Map (Uppercase Names):')\n",
    "df[['ID', 'Name', 'Name_Upper']]"
   ]
  },
  {
   "cell_type": "code",
   "execution_count": 72,
   "id": "129a7c68-e067-4ef4-909e-80a0bd2c4c0c",
   "metadata": {},
   "outputs": [
    {
     "name": "stdout",
     "output_type": "stream",
     "text": [
      "\n",
      "Multicast (Modified Copies):\n",
      "\n",
      "Copy 1 (Sales Increased):\n",
      "   ID     Name  Age        Country  Sales Name_Upper\n",
      "0   1    Ambar   19    Maharashtra  330.0      AMBAR\n",
      "1   2   Ankush   21       Karnatka  440.0     ANKUSH\n",
      "2   3  Tirthak   20         Gujrat  220.0    TIRTHAK\n",
      "3   4   Deepak   22  Uttar Pradesh  275.0     DEEPAK\n",
      "4   5   Aditya   18            Goa  550.0     ADITYA\n",
      "5   6  Nishant   24     Chandigarh  935.0    NISHANT\n",
      "\n",
      "Copy 2 (Age Increased):\n",
      "   ID     Name  Age        Country  Sales Name_Upper\n",
      "0   1    Ambar   24    Maharashtra    300      AMBAR\n",
      "1   2   Ankush   26       Karnatka    400     ANKUSH\n",
      "2   3  Tirthak   25         Gujrat    200    TIRTHAK\n",
      "3   4   Deepak   27  Uttar Pradesh    250     DEEPAK\n",
      "4   5   Aditya   23            Goa    500     ADITYA\n",
      "5   6  Nishant   29     Chandigarh    850    NISHANT\n"
     ]
    }
   ],
   "source": [
    "# Multicast: Create two copies of the dataset\n",
    "df_copy1 = df.copy()\n",
    "df_copy2 = df.copy()\n",
    "\n",
    "# Transformations on each copy\n",
    "df_copy1['Sales'] *= 1.1 # Increase sales by 10%\n",
    "df_copy2['Age'] += 5 # Increase age by 5 years\n",
    "\n",
    "print('\\nMulticast (Modified Copies):')\n",
    "print('\\nCopy 1 (Sales Increased):')\n",
    "print(df_copy1)\n",
    "print('\\nCopy 2 (Age Increased):')\n",
    "print(df_copy2)"
   ]
  },
  {
   "cell_type": "code",
   "execution_count": 74,
   "id": "b212dd29-b41f-44c2-8610-5f11cfebf21f",
   "metadata": {},
   "outputs": [],
   "source": [
    "# 3. Conditional Split\n",
    "# Description: Split data based on a condition. Here, we will separate rows with Sales > 300."
   ]
  },
  {
   "cell_type": "code",
   "execution_count": 76,
   "id": "42f04ec7-a9e9-4b09-8aa0-fe323ce89309",
   "metadata": {},
   "outputs": [
    {
     "name": "stdout",
     "output_type": "stream",
     "text": [
      "Conditional Split:\n",
      "\n",
      "High Sales:\n",
      "   ID     Name  Age     Country  Sales Name_Upper\n",
      "1   2   Ankush   21    Karnatka    400     ANKUSH\n",
      "4   5   Aditya   18         Goa    500     ADITYA\n",
      "5   6  Nishant   24  Chandigarh    850    NISHANT\n",
      "\n",
      "Low Sales:\n",
      "   ID     Name  Age        Country  Sales Name_Upper\n",
      "0   1    Ambar   19    Maharashtra    300      AMBAR\n",
      "2   3  Tirthak   20         Gujrat    200    TIRTHAK\n",
      "3   4   Deepak   22  Uttar Pradesh    250     DEEPAK\n"
     ]
    }
   ],
   "source": [
    "# Conditional Split: Sales > 300\n",
    "high_sales = df[df['Sales'] > 300]\n",
    "low_sales = df[df['Sales'] <= 300]\n",
    "print('Conditional Split:')\n",
    "print('\\nHigh Sales:')\n",
    "print(high_sales)\n",
    "print('\\nLow Sales:')\n",
    "print(low_sales)"
   ]
  },
  {
   "cell_type": "code",
   "execution_count": 78,
   "id": "171adc28-1831-4dfc-b1b5-a410bc5d8aa8",
   "metadata": {},
   "outputs": [
    {
     "name": "stdout",
     "output_type": "stream",
     "text": [
      "Aggregation (Total Sales by Country):\n"
     ]
    },
    {
     "data": {
      "text/html": [
       "<div>\n",
       "<style scoped>\n",
       "    .dataframe tbody tr th:only-of-type {\n",
       "        vertical-align: middle;\n",
       "    }\n",
       "\n",
       "    .dataframe tbody tr th {\n",
       "        vertical-align: top;\n",
       "    }\n",
       "\n",
       "    .dataframe thead th {\n",
       "        text-align: right;\n",
       "    }\n",
       "</style>\n",
       "<table border=\"1\" class=\"dataframe\">\n",
       "  <thead>\n",
       "    <tr style=\"text-align: right;\">\n",
       "      <th></th>\n",
       "      <th>Country</th>\n",
       "      <th>Sales</th>\n",
       "    </tr>\n",
       "  </thead>\n",
       "  <tbody>\n",
       "    <tr>\n",
       "      <th>0</th>\n",
       "      <td>Chandigarh</td>\n",
       "      <td>850</td>\n",
       "    </tr>\n",
       "    <tr>\n",
       "      <th>1</th>\n",
       "      <td>Goa</td>\n",
       "      <td>500</td>\n",
       "    </tr>\n",
       "    <tr>\n",
       "      <th>2</th>\n",
       "      <td>Gujrat</td>\n",
       "      <td>200</td>\n",
       "    </tr>\n",
       "    <tr>\n",
       "      <th>3</th>\n",
       "      <td>Karnatka</td>\n",
       "      <td>400</td>\n",
       "    </tr>\n",
       "    <tr>\n",
       "      <th>4</th>\n",
       "      <td>Maharashtra</td>\n",
       "      <td>300</td>\n",
       "    </tr>\n",
       "    <tr>\n",
       "      <th>5</th>\n",
       "      <td>Uttar Pradesh</td>\n",
       "      <td>250</td>\n",
       "    </tr>\n",
       "  </tbody>\n",
       "</table>\n",
       "</div>"
      ],
      "text/plain": [
       "         Country  Sales\n",
       "0     Chandigarh    850\n",
       "1            Goa    500\n",
       "2         Gujrat    200\n",
       "3       Karnatka    400\n",
       "4    Maharashtra    300\n",
       "5  Uttar Pradesh    250"
      ]
     },
     "execution_count": 78,
     "metadata": {},
     "output_type": "execute_result"
    }
   ],
   "source": [
    "# Aggregation\n",
    "# Description: Aggregate data, e.g., calculate total sales by country.\n",
    "# Aggregation: Total sales by Country\n",
    "agg_df = df.groupby('Country')['Sales'].sum().reset_index()\n",
    "print('Aggregation (Total Sales by Country):')\n",
    "agg_df"
   ]
  },
  {
   "cell_type": "code",
   "execution_count": 80,
   "id": "775df63d-28cc-4d3c-b1e6-6c2b8882e904",
   "metadata": {},
   "outputs": [
    {
     "name": "stdout",
     "output_type": "stream",
     "text": [
      "Sort (Descending Sales):\n"
     ]
    },
    {
     "data": {
      "text/html": [
       "<div>\n",
       "<style scoped>\n",
       "    .dataframe tbody tr th:only-of-type {\n",
       "        vertical-align: middle;\n",
       "    }\n",
       "\n",
       "    .dataframe tbody tr th {\n",
       "        vertical-align: top;\n",
       "    }\n",
       "\n",
       "    .dataframe thead th {\n",
       "        text-align: right;\n",
       "    }\n",
       "</style>\n",
       "<table border=\"1\" class=\"dataframe\">\n",
       "  <thead>\n",
       "    <tr style=\"text-align: right;\">\n",
       "      <th></th>\n",
       "      <th>ID</th>\n",
       "      <th>Name</th>\n",
       "      <th>Age</th>\n",
       "      <th>Country</th>\n",
       "      <th>Sales</th>\n",
       "      <th>Name_Upper</th>\n",
       "    </tr>\n",
       "  </thead>\n",
       "  <tbody>\n",
       "    <tr>\n",
       "      <th>5</th>\n",
       "      <td>6</td>\n",
       "      <td>Nishant</td>\n",
       "      <td>24</td>\n",
       "      <td>Chandigarh</td>\n",
       "      <td>850</td>\n",
       "      <td>NISHANT</td>\n",
       "    </tr>\n",
       "    <tr>\n",
       "      <th>4</th>\n",
       "      <td>5</td>\n",
       "      <td>Aditya</td>\n",
       "      <td>18</td>\n",
       "      <td>Goa</td>\n",
       "      <td>500</td>\n",
       "      <td>ADITYA</td>\n",
       "    </tr>\n",
       "    <tr>\n",
       "      <th>1</th>\n",
       "      <td>2</td>\n",
       "      <td>Ankush</td>\n",
       "      <td>21</td>\n",
       "      <td>Karnatka</td>\n",
       "      <td>400</td>\n",
       "      <td>ANKUSH</td>\n",
       "    </tr>\n",
       "    <tr>\n",
       "      <th>0</th>\n",
       "      <td>1</td>\n",
       "      <td>Ambar</td>\n",
       "      <td>19</td>\n",
       "      <td>Maharashtra</td>\n",
       "      <td>300</td>\n",
       "      <td>AMBAR</td>\n",
       "    </tr>\n",
       "    <tr>\n",
       "      <th>3</th>\n",
       "      <td>4</td>\n",
       "      <td>Deepak</td>\n",
       "      <td>22</td>\n",
       "      <td>Uttar Pradesh</td>\n",
       "      <td>250</td>\n",
       "      <td>DEEPAK</td>\n",
       "    </tr>\n",
       "    <tr>\n",
       "      <th>2</th>\n",
       "      <td>3</td>\n",
       "      <td>Tirthak</td>\n",
       "      <td>20</td>\n",
       "      <td>Gujrat</td>\n",
       "      <td>200</td>\n",
       "      <td>TIRTHAK</td>\n",
       "    </tr>\n",
       "  </tbody>\n",
       "</table>\n",
       "</div>"
      ],
      "text/plain": [
       "   ID     Name  Age        Country  Sales Name_Upper\n",
       "5   6  Nishant   24     Chandigarh    850    NISHANT\n",
       "4   5   Aditya   18            Goa    500     ADITYA\n",
       "1   2   Ankush   21       Karnatka    400     ANKUSH\n",
       "0   1    Ambar   19    Maharashtra    300      AMBAR\n",
       "3   4   Deepak   22  Uttar Pradesh    250     DEEPAK\n",
       "2   3  Tirthak   20         Gujrat    200    TIRTHAK"
      ]
     },
     "execution_count": 80,
     "metadata": {},
     "output_type": "execute_result"
    }
   ],
   "source": [
    "# 5. Sort\n",
    "# DEscription: Sort the dataset by Sales in descending order.\n",
    "# Sort: Sort by Sales in descending order\n",
    "sorted_df = df.sort_values(by = 'Sales', ascending = False)\n",
    "print('Sort (Descending Sales):')\n",
    "sorted_df"
   ]
  },
  {
   "cell_type": "code",
   "execution_count": 82,
   "id": "72668fff-f267-4bfa-94df-8c94bb3fb9ab",
   "metadata": {},
   "outputs": [],
   "source": [
    "# 6. Derived Column\n",
    "# Description: Create a new column by deriving information from existing data."
   ]
  },
  {
   "cell_type": "code",
   "execution_count": 84,
   "id": "2f6636fa-9ba9-4025-8325-164486e99892",
   "metadata": {},
   "outputs": [
    {
     "name": "stdout",
     "output_type": "stream",
     "text": [
      "Derived Column (Sales Category):\n"
     ]
    },
    {
     "data": {
      "text/html": [
       "<div>\n",
       "<style scoped>\n",
       "    .dataframe tbody tr th:only-of-type {\n",
       "        vertical-align: middle;\n",
       "    }\n",
       "\n",
       "    .dataframe tbody tr th {\n",
       "        vertical-align: top;\n",
       "    }\n",
       "\n",
       "    .dataframe thead th {\n",
       "        text-align: right;\n",
       "    }\n",
       "</style>\n",
       "<table border=\"1\" class=\"dataframe\">\n",
       "  <thead>\n",
       "    <tr style=\"text-align: right;\">\n",
       "      <th></th>\n",
       "      <th>ID</th>\n",
       "      <th>Name</th>\n",
       "      <th>Sales</th>\n",
       "      <th>Sales_Category</th>\n",
       "    </tr>\n",
       "  </thead>\n",
       "  <tbody>\n",
       "    <tr>\n",
       "      <th>0</th>\n",
       "      <td>1</td>\n",
       "      <td>Ambar</td>\n",
       "      <td>300</td>\n",
       "      <td>Low</td>\n",
       "    </tr>\n",
       "    <tr>\n",
       "      <th>1</th>\n",
       "      <td>2</td>\n",
       "      <td>Ankush</td>\n",
       "      <td>400</td>\n",
       "      <td>High</td>\n",
       "    </tr>\n",
       "    <tr>\n",
       "      <th>2</th>\n",
       "      <td>3</td>\n",
       "      <td>Tirthak</td>\n",
       "      <td>200</td>\n",
       "      <td>Low</td>\n",
       "    </tr>\n",
       "    <tr>\n",
       "      <th>3</th>\n",
       "      <td>4</td>\n",
       "      <td>Deepak</td>\n",
       "      <td>250</td>\n",
       "      <td>Low</td>\n",
       "    </tr>\n",
       "    <tr>\n",
       "      <th>4</th>\n",
       "      <td>5</td>\n",
       "      <td>Aditya</td>\n",
       "      <td>500</td>\n",
       "      <td>High</td>\n",
       "    </tr>\n",
       "    <tr>\n",
       "      <th>5</th>\n",
       "      <td>6</td>\n",
       "      <td>Nishant</td>\n",
       "      <td>850</td>\n",
       "      <td>High</td>\n",
       "    </tr>\n",
       "  </tbody>\n",
       "</table>\n",
       "</div>"
      ],
      "text/plain": [
       "   ID     Name  Sales Sales_Category\n",
       "0   1    Ambar    300            Low\n",
       "1   2   Ankush    400           High\n",
       "2   3  Tirthak    200            Low\n",
       "3   4   Deepak    250            Low\n",
       "4   5   Aditya    500           High\n",
       "5   6  Nishant    850           High"
      ]
     },
     "execution_count": 84,
     "metadata": {},
     "output_type": "execute_result"
    }
   ],
   "source": [
    "# Derived Column: Categorize sales as 'High' or 'Low'\n",
    "df['Sales_Category'] = df['Sales'].apply(lambda x: 'High' if x > 300 else 'Low')\n",
    "print('Derived Column (Sales Category):')\n",
    "df[['ID', 'Name', 'Sales', 'Sales_Category']]"
   ]
  },
  {
   "cell_type": "code",
   "execution_count": null,
   "id": "9c19c9af-ed18-49ad-91a6-210827705c21",
   "metadata": {},
   "outputs": [],
   "source": []
  }
 ],
 "metadata": {
  "kernelspec": {
   "display_name": "Python 3 (ipykernel)",
   "language": "python",
   "name": "python3"
  },
  "language_info": {
   "codemirror_mode": {
    "name": "ipython",
    "version": 3
   },
   "file_extension": ".py",
   "mimetype": "text/x-python",
   "name": "python",
   "nbconvert_exporter": "python",
   "pygments_lexer": "ipython3",
   "version": "3.12.4"
  }
 },
 "nbformat": 4,
 "nbformat_minor": 5
}
